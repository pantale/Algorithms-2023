{
 "cells": [
  {
   "cell_type": "markdown",
   "id": "2572666a-af91-498b-801f-14bd959d2606",
   "metadata": {},
   "source": [
    "# Artificial Neural Network\n",
    "Constitutive law identification with Artificial Neural Network\n",
    "(c) by Olivier Pantalé 2023"
   ]
  },
  {
   "cell_type": "markdown",
   "id": "7ce77105-421c-4c45-ac67-2fd129a79b36",
   "metadata": {},
   "source": [
    "## Notes of version"
   ]
  },
  {
   "cell_type": "markdown",
   "id": "bccd309f-0999-460d-944d-30f211f0c2c6",
   "metadata": {
    "execution": {
     "iopub.execute_input": "2023-09-21T14:00:33.235565Z",
     "iopub.status.busy": "2023-09-21T14:00:33.234804Z",
     "iopub.status.idle": "2023-09-21T14:00:33.245213Z",
     "shell.execute_reply": "2023-09-21T14:00:33.243155Z",
     "shell.execute_reply.started": "2023-09-21T14:00:33.235494Z"
    }
   },
   "source": [
    "# Initialization"
   ]
  },
  {
   "cell_type": "code",
   "execution_count": null,
   "id": "ecfa99fb-33df-4068-96d9-9bf5e702d57a",
   "metadata": {},
   "outputs": [],
   "source": [
    "%run Common.ipynb\n",
    "plotFigs = False\n",
    "saveFigs = False"
   ]
  },
  {
   "cell_type": "markdown",
   "id": "a12f3c0f-099e-4e91-a581-3169f21cd5f5",
   "metadata": {},
   "source": [
    "# Import Data from the HF5 file"
   ]
  },
  {
   "cell_type": "markdown",
   "id": "92211a43-3746-4241-9d7b-f84c85d6332e",
   "metadata": {},
   "source": [
    "Read Data from the HF5 file"
   ]
  },
  {
   "cell_type": "code",
   "execution_count": null,
   "id": "0521b7eb-dfaf-4cf0-bdfa-d0b85cfb1f8c",
   "metadata": {},
   "outputs": [],
   "source": [
    "# Read the HF5 data file\n",
    "DataFile = '3Cr2Mo'\n",
    "data = readH5(filename = DataFile +'.h5')\n",
    "\n",
    "depsArray = getDepsparray(data)\n",
    "tempArray = getTarray(data)\n",
    "numberOfData = len(data)\n",
    "print('depsArray',depsArray,'contains',depsArray.shape[0],'data')\n",
    "print('tempArray',tempArray,'contains',tempArray.shape[0],'data')\n",
    "print('total of',numberOfData,'data')"
   ]
  },
  {
   "cell_type": "markdown",
   "id": "e71321ed-62cb-4b40-aa05-dae2380fa499",
   "metadata": {},
   "source": [
    "Plot the content of the data to see what it looks like"
   ]
  },
  {
   "cell_type": "code",
   "execution_count": null,
   "id": "2ab8019e-5d32-471e-8384-bdf8b7d70010",
   "metadata": {},
   "outputs": [],
   "source": [
    "if (plotFigs):\n",
    "    plotDatas(data)"
   ]
  },
  {
   "cell_type": "markdown",
   "id": "aeaf6bd5-3f2e-41e8-ba03-1585eed2ca93",
   "metadata": {},
   "source": [
    "Assemble all data into one big chunk"
   ]
  },
  {
   "cell_type": "code",
   "execution_count": null,
   "id": "cf4abcd5-4ef2-412b-8370-b54bc50eb3ab",
   "metadata": {},
   "outputs": [],
   "source": [
    "removeZero = True # Remove the first point where eps = 0\n",
    "\n",
    "first = True\n",
    "for d in data:\n",
    "    subdata = np.ones_like(d[2])*np.array([d[0],d[1]])\n",
    "    newdata = np.array([d[2][:,0], subdata[:,0], subdata[:,1], d[2][:,1]])\n",
    "    if first :\n",
    "        allData = newdata\n",
    "        first = False\n",
    "    else:\n",
    "        allData = np.concatenate((allData, newdata), axis=1)\n",
    "print('Format of allData', allData.shape)\n",
    "if (removeZero): \n",
    "    identData = allData[:,allData[0,:] != 0]\n",
    "else:\n",
    "    identData = allData\n",
    "print('Format of identData', identData.shape)"
   ]
  },
  {
   "cell_type": "markdown",
   "id": "3db19f3e-b2d0-4751-bba2-ee04473c2937",
   "metadata": {},
   "source": [
    "Definition of the non classic functions and their derivatives"
   ]
  },
  {
   "cell_type": "code",
   "execution_count": null,
   "id": "a3ee70ae-e51d-4af4-b053-97adff53b5bf",
   "metadata": {},
   "outputs": [],
   "source": [
    "def sigmoid(x):\n",
    "    return 1 / (1 + np.exp(-x))\n",
    "\n",
    "def dsigmoid(x):\n",
    "    return (sigmoid(x)*(1-sigmoid(x)))\n",
    "    #return np.exp(-x) / (1 + np.exp(-x))**2\n",
    "    #return 1 / (np.exp(x) * (1+np.exp(-x))**2)\n",
    "\n",
    "def dtanh(x):\n",
    "    return 1 - np.tanh(x)**2\n",
    "    \n",
    "def softplus(x):\n",
    "    return np.log1p(np.exp(x))\n",
    "    #return np.log1p(np.exp(-np.abs(x))) + np.maximum(x, 0)\n",
    "    \n",
    "def dsoftplus(x):\n",
    "    return sigmoid(x)\n",
    "\n",
    "def swish(x):\n",
    "    return x * sigmoid(x)\n",
    "\n",
    "def dswish(x):\n",
    "    return swish(x) + sigmoid(x)*(1 - swish(x)) \n",
    "\n",
    "def relu(x):\n",
    "    return x*(x>0)\n",
    "\n",
    "def drelu(x):\n",
    "    return 1*(x>0)"
   ]
  },
  {
   "cell_type": "code",
   "execution_count": null,
   "id": "bbbaad8b-77aa-46aa-8340-ff281da424c4",
   "metadata": {},
   "outputs": [],
   "source": [
    "variableFormatToUse = \"%.16f\"\n",
    "\n",
    "def valueString(a):\n",
    "    s = variableFormatToUse%(a)\n",
    "    for c in range(len(s)-1,0,-1):\n",
    "        if (s[c] != '0'): break\n",
    "    if (s[c]=='.'): return s[0:c]\n",
    "    return s[0:c+1]\n",
    "\n",
    "comment = 'C '\n",
    "cline = 'C **********************************************************************\\n'\n",
    "block =   '      '\n",
    "\n",
    "def splitFortranLine(line):\n",
    "    line = line.replace('|*','\\n     + *')\n",
    "    line = line.replace('|/','\\n     + /')\n",
    "    line = line.replace('| + ','\\n     + +')\n",
    "    line = line.replace('| - ','\\n     + -')\n",
    "    return line\n",
    "\n",
    "def toPython(line):\n",
    "    if (line[0] == 'C'): line='#'+line[1:]\n",
    "    line = line.replace('|','')\n",
    "    line = line.replace('then',':')\n",
    "    line = line.replace('endif','# endif')\n",
    "    line = line.replace('else','else:')    \n",
    "    line = line.replace('exp','np.exp')\n",
    "    line = line.replace('log','np.log')\n",
    "    line = line.replace('tanh','np.tanh')\n",
    "    line = line.replace('abs','np.abs')\n",
    "    line = line.replace(\"--\", \"+\")\n",
    "    line = line.replace(\"+-\", \"-\")\n",
    "    line = line.replace(\"(+\", \"(\")\n",
    "    line = line.replace('+',' + ')\n",
    "    line = line.replace('-',' - ')\n",
    "    line = line.replace('=  - ','=-')\n",
    "    line = line.replace('( - ','(-')\n",
    "    line = line.replace('  +  ',' + ')\n",
    "    #line = line.replace('.000000000000','.0')\n",
    "    line = line.replace('(k)','')\n",
    "    line = line.replace('(k,1)','1')\n",
    "    line = line.replace('(k,2)','2')\n",
    "    line = line + '\\n'\n",
    "    return line\n",
    "\n",
    "def toFortran(line):\n",
    "    line = line.replace(\"--\", \"+\")\n",
    "    line = line.replace(\"max\", \"dmax1\")\n",
    "    line = line.replace(\"+-\", \"-\")\n",
    "    line = line.replace(\"(+\", \"(\")\n",
    "    line = line.replace('+',' + ')\n",
    "    line = line.replace('-',' - ')\n",
    "    line = line.replace('=  - ','=-')\n",
    "    line = line.replace('( - ','(-')\n",
    "    line = line.replace('  +  ',' + ')\n",
    "    line = line.replace('.000000000000','.0')\n",
    "    if (line[0] == 'C'): line = line + '\\n'\n",
    "    else: line = block + line + '\\n'\n",
    "    line = splitFortranLine(line)\n",
    "    return line\n",
    "\n",
    "def dataZone(code):\n",
    "    code = 'C Block of Data\\n'\n",
    "    code += writeDataFortran(w1, 'w1')\n",
    "    code += writeDataFortran(b1, 'b1')\n",
    "    code += writeDataFortran(w2, 'w2')\n",
    "    code += writeDataFortran(b2, 'b2')\n",
    "    code += writeDataFortran(w3, 'w3')\n",
    "    code += writeDataFortran(b3, 'b3')\n",
    "    code += writeDataFortran(minInput, 'xmI')\n",
    "    code += writeDataFortran(rangeInput, 'xrI')\n",
    "    code += writeDataFortran(np.array([[minOutput[0]]]), 'xmO')\n",
    "    code += writeDataFortran(np.array([[rangeOutput[0]]]), 'xrO')\n",
    "    code += writeDataFortran(np.array([[deps0]]), 'xdeps0')\n",
    "    return code\n",
    "\n",
    "def uhardHead(data = False):\n",
    "    code = cline\n",
    "    code += comment + 'Function to compute the ANN : ' + DataFile + '-' + modelName + ' yield stress\\n'\n",
    "    code += cline\n",
    "    code += '      subroutine uhard (\\n'\n",
    "    code += '     +  syield, hard, eqplas, eqplasrt, time, dtime, temp, \\n'\n",
    "    code += '     +  dtemp, noel, npt, layer, kspt, kstep, kinc, \\n'\n",
    "    code += '     +  cmname, nstatv, statev, numfieldv, \\n'\n",
    "    code += '     +  predef, dpredef, numprops, props)\\n'\n",
    "    code += 'C\\n'\n",
    "    code += \"      include 'aba_param.inc'\\n\"\n",
    "    code += 'C\\n'\n",
    "    code += '      dimension hard(3), statev(nstatv), time(*),\\n'\n",
    "    code += '     +  predef(numfieldv), dpredef(*), props(*)\\n'\n",
    "    code += 'C\\n'\n",
    "    code += '      character*80 cmname\\n'\n",
    "    if (data):\n",
    "        code += dataZone(code)\n",
    "    return code\n",
    "\n",
    "def vuhardHead(data = False):\n",
    "    code = cline\n",
    "    code += comment + 'Function to compute the ANN : ' + DataFile + '-' + modelName + ' yield stress\\n'\n",
    "    code += cline\n",
    "    code += '      subroutine vuhard (\\n'\n",
    "    code += 'C Read only -\\n'\n",
    "    code += '     +  nblock, nElement, nIntPt, nLayer, nSecPt, lAnneal, stepTime,\\n'\n",
    "    code += '     +  totalTime, dt, cmname, nstatev, nfieldv, nprops, props,\\n'\n",
    "    code += '     +  tempOld, tempNew, fieldOld, fieldNew, stateOld, eqps, eqpsRate,\\n'\n",
    "    code += 'C Write only -\\n'\n",
    "    code += '     +  yield, dyieldDtemp, dyieldDeqps, stateNew)\\n'\n",
    "    code += 'C\\n'\n",
    "    code += \"      include 'vaba_param.inc'\\n\"\n",
    "    code += 'C\\n'\n",
    "    code += '      dimension nElement(nblock), props(nprops), tempOld(nblock),\\n'\n",
    "    code += '     +  fieldOld(nblock,nfieldv), stateOld(nblock,nstatev),\\n'\n",
    "    code += '     +  tempNew(nblock), fieldNew(nblock,nfieldv), eqps(nblock),\\n'\n",
    "    code += '     +  eqpsRate(nblock), yield(nblock), dyieldDtemp(nblock),\\n'\n",
    "    code += '     +  dyieldDeqps(nblock,2), stateNew(nblock,nstatev)\\n'\n",
    "    code += 'C\\n'\n",
    "    code += '      character*80 cmname\\n'\n",
    "    if (data):\n",
    "        code += dataZone(code)\n",
    "    code += 'C Do the main loop for all block values\\n'\n",
    "    code += '      do k = 1, nblock\\n'\n",
    "    return code\n",
    "\n",
    "def vuhardTail():\n",
    "    code = 'C Store the eqpsRate into stateNew variable 1\\n'\n",
    "    code += '      stateNew(k,1) = eqpsRate(k)\\n'\n",
    "    code += '      end do\\n'\n",
    "    code += 'C Return from the VUHARD subroutine\\n'\n",
    "    code += '      return\\n'\n",
    "    code += '      end\\n'\n",
    "    return code\n",
    "\n",
    "def uhardTail():\n",
    "    code = 'C Store the eqplasrt into statev variable 1\\n'\n",
    "    code += '      statev(1) = eqplasrt\\n'\n",
    "    code += 'C Return from the UHARD subroutine\\n'\n",
    "    code += '      return\\n'\n",
    "    code += '      end\\n'\n",
    "    return code\n",
    "    \n",
    "def encodeFunction(f, p, func):\n",
    "    f += toFortran(func)\n",
    "    p += toPython(func)\n",
    "    return f, p\n",
    "\n",
    "def writeDataFortran(var, name):\n",
    "    I, J = var.shape\n",
    "    lines = ''\n",
    "    if (I == 1) and (J==1):\n",
    "        lines += toFortran('double precision '+name)\n",
    "    elif (I == 1) or (J==1):\n",
    "        if (I == 1):\n",
    "            lines += toFortran('double precision '+name+'('+str(J)+')')\n",
    "        if (J == 1):\n",
    "            lines += toFortran('double precision '+name+'('+str(I)+')')\n",
    "    else:\n",
    "        lines += toFortran('double precision '+name+'('+str(I)+', '+str(J)+')')\n",
    "    line = '      data '+name+'/'\n",
    "    d = 0\n",
    "    for j in range (J):\n",
    "        for i in range (I):\n",
    "            if (d>0): line += ',\\n     + '\n",
    "            line += valueString(var[i,j])+'D0'\n",
    "            d += 1\n",
    "    line += '/\\n'        \n",
    "    lines += line\n",
    "    return lines\n",
    "\n",
    "def wv1(n,i):\n",
    "    return n+'('+str(i+1)+')'\n",
    "    \n",
    "def wv2(n,i,j):\n",
    "    return n+'('+str(i+1)+','+str(j+1)+')'\n",
    "\n",
    "def wv(i):\n",
    "    return str(i+1)    "
   ]
  },
  {
   "cell_type": "markdown",
   "id": "b61acf42-ba27-4198-822a-a30e82f899fd",
   "metadata": {},
   "source": [
    "Load the ANN parameters of the model to test"
   ]
  },
  {
   "cell_type": "code",
   "execution_count": null,
   "id": "86c755d8-a60b-444e-8e5a-d35c07a70e75",
   "metadata": {},
   "outputs": [],
   "source": [
    "activations = [['sigmoid', sigmoid, dsigmoid],\n",
    "               ['softplus', softplus, dsoftplus],\n",
    "               ['tanh', np.tanh, dtanh],\n",
    "               ['swish', swish, dswish],\n",
    "               ['relu', relu, drelu],\n",
    "               ['exponential', np.exp, np.exp]]\n",
    "\n",
    "take = 5 # Define the model to export [0,5]\n",
    "shape = [17,9]\n",
    "\n",
    "activation = activations[take][0]\n",
    "actF = activations[take][1]\n",
    "dactF = activations[take][2]\n",
    "\n",
    "def getModelName(shape, activation):\n",
    "    return '3-' + str(shape[0]) + '-' + str(shape[1]) + '-1-' + activation\n",
    "\n",
    "# Get model name\n",
    "modelName = getModelName(shape, activation) \n",
    "\n",
    "print('Selected model is:', modelName)\n",
    "\n",
    "# Read and unpack data\n",
    "W, B, R = readAnnH5(DataFile + '/' + modelName + '-ANN.h5')\n",
    "w1, w2, w3 = W\n",
    "b1, b2, b3 = B\n",
    "minData, maxData, deps0 = R\n",
    "\n",
    "minInput = minData[0:3,0,None]\n",
    "maxInput = maxData[0:3,0,None]\n",
    "minOutput = minData[3]\n",
    "maxOutput = maxData[3]\n",
    "rangeInput = maxInput - minInput\n",
    "rangeOutput = maxOutput - minOutput\n",
    "\n",
    "print('Inputs : min=',minInput.T,' max=', maxInput.T)\n",
    "print('Output : min=',minOutput.T,' max=', maxOutput.T)"
   ]
  },
  {
   "cell_type": "markdown",
   "id": "502af051-298f-4208-b2d2-add5f9629cb7",
   "metadata": {},
   "source": [
    "Split Data into annInput and annOutput and display the shapes"
   ]
  },
  {
   "cell_type": "code",
   "execution_count": null,
   "id": "911f6c13-50ab-4539-8761-f932e2d42c72",
   "metadata": {},
   "outputs": [],
   "source": [
    "annInput = np.copy(identData[0:3,:])\n",
    "annOutput = np.copy(identData[None,3,:])\n",
    "print(annInput.shape, annOutput.shape)"
   ]
  },
  {
   "cell_type": "markdown",
   "id": "9bd7f129-7714-45a1-9ec7-c76530eec53d",
   "metadata": {
    "execution": {
     "iopub.execute_input": "2023-09-21T14:37:30.308849Z",
     "iopub.status.busy": "2023-09-21T14:37:30.307223Z",
     "iopub.status.idle": "2023-09-21T14:37:30.330956Z",
     "shell.execute_reply": "2023-09-21T14:37:30.327483Z",
     "shell.execute_reply.started": "2023-09-21T14:37:30.308770Z"
    }
   },
   "source": [
    "Definition of the structure of the ANN and the computation of the derivatives"
   ]
  },
  {
   "cell_type": "code",
   "execution_count": null,
   "id": "0c060ff3-65ab-4d59-8c0b-acfb37e0703c",
   "metadata": {},
   "outputs": [],
   "source": [
    "def AnnFunctionWithDerivatives(input, activation, dactivation):\n",
    "    x = np.copy(input)\n",
    "    x[1,:] = np.log(x[1,:] / deps0)\n",
    "    x = (x - minInput) / rangeInput\n",
    "    y1 = w1.dot(x) + b1\n",
    "    f1 = activation(y1)\n",
    "    y2 = w2.dot(f1) + b2\n",
    "    f2 = activation(y2)\n",
    "    sigma = (w3.dot(f2) + b3) * rangeOutput + minOutput\n",
    "    dsigma = (w1.T).dot((w2.T).dot(w3.T * dactivation(y2)) * dactivation(y1)) * rangeOutput / rangeInput\n",
    "    dsigma[1,:] = dsigma[1,:] / input[1,:]\n",
    "    return sigma, dsigma "
   ]
  },
  {
   "cell_type": "markdown",
   "id": "90f1c189-76cb-4fa7-8744-08d480159136",
   "metadata": {},
   "source": [
    "Test by computing sigma and its derivatives"
   ]
  },
  {
   "cell_type": "code",
   "execution_count": null,
   "id": "0a805ab3-e6ac-4846-afc7-bbe10dfb039f",
   "metadata": {},
   "outputs": [],
   "source": [
    "sig, dsig = AnnFunctionWithDerivatives(annInput, actF, dactF)\n",
    "error = np.abs((sig-annOutput)/annOutput)\n",
    "print(\"Mean error is :\", error.mean())"
   ]
  },
  {
   "cell_type": "markdown",
   "id": "a6a5ea1b-6bee-46ea-8b39-fef6a2980ece",
   "metadata": {
    "execution": {
     "iopub.execute_input": "2023-10-05T12:34:22.014003Z",
     "iopub.status.busy": "2023-10-05T12:34:22.012820Z",
     "iopub.status.idle": "2023-10-05T12:34:22.022366Z",
     "shell.execute_reply": "2023-10-05T12:34:22.020168Z",
     "shell.execute_reply.started": "2023-10-05T12:34:22.013929Z"
    }
   },
   "source": [
    "## Generation of the Fortran and Python code\n",
    "### Definition of activations functions to use"
   ]
  },
  {
   "cell_type": "markdown",
   "id": "244e10d6-bb2a-45a4-ae08-f32a42462541",
   "metadata": {},
   "source": [
    "Activation functions:\n",
    "\n",
    "Sigmoid :\n",
    "$$\\sigma = \\frac{1}{1+\\exp(-x)}$$\n",
    "$$\\sigma' = \\sigma\\left(1-\\sigma\\right)$$\n",
    "\n",
    "Exponential:\n",
    "$$f = \\exp(x)$$\n",
    "$$f' = f$$"
   ]
  },
  {
   "cell_type": "code",
   "execution_count": null,
   "id": "e78c9c9a-7742-401f-82b1-f993825b0542",
   "metadata": {},
   "outputs": [],
   "source": [
    "def actFortran(act, x, i):\n",
    "    exist = False\n",
    "    if (act == 'sigmoid'):\n",
    "        exist = True\n",
    "        fct = '1/(1+exp(-X))'\n",
    "    if (act == 'exponential'):\n",
    "        exist = True\n",
    "        fct = 'exp(X)'\n",
    "    if (act == 'tanh'):\n",
    "        exist = True\n",
    "        fct = 'tanh(X)'\n",
    "    if (act == 'swish'):\n",
    "        exist = True\n",
    "        fct = 'X/(1+exp(-X))'\n",
    "    if (act == 'softplus'):\n",
    "        exist = True\n",
    "        #fct = 'log(1+exp(-abs(X)))+max(0.0D0,X)'\n",
    "        fct = 'log(1+exp(X))'\n",
    "        # np.log1p(np.exp(-np.abs(x))) + np.maximum(x, 0)\n",
    "    if (act == 'relu'):\n",
    "        exist = True\n",
    "        fct = '(max(0.0D0,X))'\n",
    "        # np.log1p(np.exp(-np.abs(x))) + np.maximum(x, 0)\n",
    "    if (not exist):\n",
    "        print('ERROR Its not implemented yet')\n",
    "        return '',''\n",
    "    return fct.replace('X',x).replace('#',str(i))\n",
    "\n",
    "def dactFortran(act, y, x, i):\n",
    "    exist = False\n",
    "    if (act == 'sigmoid'):\n",
    "        exist = True\n",
    "        fct = '(Y*(1-Y))' # sigmoid(x)*(1-sigmoid(x)) = y*(1-y)\n",
    "    if (act == 'exponential'):\n",
    "        exist = True\n",
    "        fct = 'Y' # exp(x) = y\n",
    "    if (act == 'tanh'):\n",
    "        exist = True\n",
    "        fct = '(1-Y*Y)' # 1-tanh(x)**2 = 1-y*y\n",
    "    if (act == 'swish'):\n",
    "        exist = True\n",
    "        fct = '(Y+(1-Y)/(1+exp(-X)))' # swish(x) + sigmoid(x)*(1 - swish(x)) = y + sigmoid(x)*(1-y)\n",
    "    if (act == 'softplus'):\n",
    "        exist = True\n",
    "        fct = '(1/(1+exp(-X)))' # swish(x) + sigmoid(x)*(1 - swish(x)) = y + sigmoid(x)*(1-y)\n",
    "    if (act == 'relu'):\n",
    "        exist = True\n",
    "        fct = 'max(0.0D0,sign(1.0D0,X))'\n",
    "    if (not exist):\n",
    "        print('ERROR Its not implemented yet')\n",
    "        return '',''\n",
    "    return fct.replace('X',x).replace('Y',y).replace('#',str(i))"
   ]
  },
  {
   "cell_type": "code",
   "execution_count": null,
   "id": "29479caf-94d1-42ad-af07-fb1e46faf4c4",
   "metadata": {},
   "outputs": [],
   "source": [
    "#max(0, np.sign(1,2))"
   ]
  },
  {
   "cell_type": "markdown",
   "id": "b3783994-5f2a-4a50-9361-b78d9255e23e",
   "metadata": {
    "execution": {
     "iopub.execute_input": "2023-10-05T12:34:22.014003Z",
     "iopub.status.busy": "2023-10-05T12:34:22.012820Z",
     "iopub.status.idle": "2023-10-05T12:34:22.022366Z",
     "shell.execute_reply": "2023-10-05T12:34:22.020168Z",
     "shell.execute_reply.started": "2023-10-05T12:34:22.013929Z"
    }
   },
   "source": [
    "### Initialization"
   ]
  },
  {
   "cell_type": "code",
   "execution_count": null,
   "id": "367189bd-b254-4313-90ca-1f0370e20cb8",
   "metadata": {},
   "outputs": [],
   "source": [
    "fortranCode = ''\n",
    "pythonCode = ''\n",
    "inlineFactor = True\n",
    "useData = True\n",
    "\n",
    "Explicit = False\n",
    "Explicit = True"
   ]
  },
  {
   "cell_type": "markdown",
   "id": "0e530ece-3f7d-4108-bbf4-1ca524feeddc",
   "metadata": {},
   "source": [
    "### Write the header part of the Fortran code"
   ]
  },
  {
   "cell_type": "code",
   "execution_count": null,
   "id": "1101ab7c-e241-4f52-8b3f-cb75ffe081a8",
   "metadata": {},
   "outputs": [],
   "source": [
    "if (Explicit):\n",
    "    fortranCode += vuhardHead(useData)\n",
    "else:\n",
    "    fortranCode += uhardHead(useData)"
   ]
  },
  {
   "cell_type": "code",
   "execution_count": null,
   "id": "d50a5331-370e-400e-b63c-1e7d83e5df41",
   "metadata": {},
   "outputs": [],
   "source": [
    "#print(fortranCode)"
   ]
  },
  {
   "cell_type": "markdown",
   "id": "d628e9ef-2996-4ac7-b930-4ac9c57a5f32",
   "metadata": {},
   "source": [
    "### Preprocessing of the variables"
   ]
  },
  {
   "cell_type": "code",
   "execution_count": null,
   "id": "472babc5-bfd4-4915-a65b-10f1893fcebb",
   "metadata": {},
   "outputs": [],
   "source": [
    "# Write comment\n",
    "fortranCode, pythonCode = encodeFunction(fortranCode, pythonCode, comment + 'Preprocessing of the variables')\n",
    "\n",
    "if (Explicit):\n",
    "    var_xeps = 'eqps(k)'\n",
    "    var_xdeps = 'eqpsRate(k)'\n",
    "    var_xtemp = 'tempNew(k)'\n",
    "else:\n",
    "    var_xeps = 'eqplas'\n",
    "    var_xdeps = 'eqplasrt'\n",
    "    var_xtemp = 'temp+dtemp'\n",
    "    \n",
    "# Compute for eps\n",
    "if (useData):\n",
    "    fortranCode, pythonCode = encodeFunction(fortranCode, pythonCode, 'xeps = ('+var_xeps+'-xmI(1))/xrI(1)')\n",
    "else:\n",
    "    fortranCode, pythonCode = encodeFunction(fortranCode, pythonCode, 'xeps = ('+var_xeps+'-' + valueString(minInput[0,0]) + ')/' + valueString(rangeInput[0,0]))\n",
    "\n",
    "# Compute for deps\n",
    "if (useData):\n",
    "    fortranCode, pythonCode = encodeFunction(fortranCode, pythonCode, 'if ('+var_xdeps+' > xdeps0) then')\n",
    "    fortranCode, pythonCode = encodeFunction(fortranCode, pythonCode, '  xdeps = (log('+var_xdeps+'/xdeps0)-xmI(2))/xrI(2)')\n",
    "    fortranCode, pythonCode = encodeFunction(fortranCode, pythonCode, 'else')\n",
    "    fortranCode, pythonCode = encodeFunction(fortranCode, pythonCode, '  xdeps = 0')\n",
    "    fortranCode, pythonCode = encodeFunction(fortranCode, pythonCode, '  '+var_xdeps+' = xdeps0')\n",
    "    fortranCode, pythonCode = encodeFunction(fortranCode, pythonCode, 'endif')\n",
    "else:\n",
    "    fortranCode, pythonCode = encodeFunction(fortranCode, pythonCode, 'if ('+var_xdeps+' > ' + valueString(deps0) + ') then')\n",
    "    fortranCode, pythonCode = encodeFunction(fortranCode, pythonCode, '  xdeps = (log('+var_xdeps+'/' + valueString(deps0) + ')-' + valueString(minInput[1,0]) + ')/' + valueString(rangeInput[1,0]))\n",
    "    fortranCode, pythonCode = encodeFunction(fortranCode, pythonCode, 'else')\n",
    "    fortranCode, pythonCode = encodeFunction(fortranCode, pythonCode, '  xdeps = 0')\n",
    "    fortranCode, pythonCode = encodeFunction(fortranCode, pythonCode, '  '+var_xdeps+' = ' + valueString(deps0))\n",
    "    fortranCode, pythonCode = encodeFunction(fortranCode, pythonCode, 'endif')\n",
    "\n",
    "# Compute for T\n",
    "if (useData):\n",
    "    fortranCode, pythonCode = encodeFunction(fortranCode, pythonCode, 'xtemp = ('+var_xtemp+'-xmI(3))/xrI(3)')\n",
    "else:\n",
    "    fortranCode, pythonCode = encodeFunction(fortranCode, pythonCode, 'xtemp = ('+var_xtemp+'-' + valueString(minInput[2,0])+')/' + valueString(rangeInput[2,0]))"
   ]
  },
  {
   "cell_type": "markdown",
   "id": "732e94bf-d668-4ead-8255-77e13bc5bdbe",
   "metadata": {},
   "source": [
    "### Core of the Artificial Neural Network"
   ]
  },
  {
   "cell_type": "code",
   "execution_count": null,
   "id": "cc42d951-cb7f-44de-aab9-757655500731",
   "metadata": {},
   "outputs": [],
   "source": [
    "# Write the comment for the function\n",
    "fortranCode, pythonCode = encodeFunction(fortranCode, pythonCode, comment + 'Hidden layer #1-(y11 to y1'+str(b1.shape[0])+')')\n",
    "    \n",
    "# Write the function\n",
    "for i in range(b1.shape[0]):\n",
    "    if (useData):\n",
    "        fortranCode, pythonCode = encodeFunction(fortranCode, pythonCode, 'y1' + wv(i) + ' = ' + wv2('w1',i,0) + ' * xeps|+' + wv2('w1',i,1) + ' * xdeps|+' + wv2('w1',i,2) + ' * xtemp|+' + wv1('b1',i))\n",
    "    else:\n",
    "        fortranCode, pythonCode = encodeFunction(fortranCode, pythonCode, 'y1' + wv(i) + ' = ' + valueString(w1[i,0]) + ' * xeps|+'+ valueString(w1[i,1]) + ' * xdeps|+'+ valueString(w1[i,2]) + ' * xtemp|+' + valueString(b1[i,0]))"
   ]
  },
  {
   "cell_type": "code",
   "execution_count": null,
   "id": "63b6da91-d6d3-4610-9175-28838a90f1b8",
   "metadata": {},
   "outputs": [],
   "source": [
    "fortranCode, pythonCode = encodeFunction(fortranCode, pythonCode, comment + activation + ' activation function-(yf11 to yf1'+str(b1.shape[0])+')')\n",
    "\n",
    "for i in range(b1.shape[0]):\n",
    "    fortranCode, pythonCode = encodeFunction(fortranCode, pythonCode, 'yf1' + wv(i) + ' = ' + actFortran(activation, 'y1#', i+1))"
   ]
  },
  {
   "cell_type": "code",
   "execution_count": null,
   "id": "2395c16b-a1d5-4fa9-b034-9a4c35665fb5",
   "metadata": {},
   "outputs": [],
   "source": [
    "# Write the comment for the function\n",
    "fortranCode, pythonCode = encodeFunction(fortranCode, pythonCode, comment + 'Hidden layer #2-(y21 to y2'+str(b2.shape[0])+')')\n",
    "\n",
    "# Write the function\n",
    "if (useData):\n",
    "    for i in range(b2.shape[0]):\n",
    "        line = 'y2' + wv(i) + \" = \"\n",
    "        for j in range(w2.shape[1]):\n",
    "            if (j != 0): line += '+'\n",
    "            line += wv2('w2',i,j) + ' * yf1' + wv(j) + '|'\n",
    "        line += '+' + wv1('b2',i)\n",
    "        fortranCode, pythonCode = encodeFunction(fortranCode, pythonCode, line)\n",
    "else:\n",
    "    for i in range(b2.shape[0]):\n",
    "        line = 'y2' + wv(i) + \" = \"\n",
    "        for j in range(w2.shape[1]):\n",
    "            line += '+' + valueString(w2[i,j]) + ' * yf1' + wv(j) + '|'\n",
    "        line += '+' + valueString(b2[i,0])\n",
    "        fortranCode, pythonCode = encodeFunction(fortranCode, pythonCode, line)"
   ]
  },
  {
   "cell_type": "code",
   "execution_count": null,
   "id": "7b9c828e-04c6-4d17-a469-c85a093c7103",
   "metadata": {},
   "outputs": [],
   "source": [
    "fortranCode, pythonCode = encodeFunction(fortranCode, pythonCode, comment + activation + ' activation function-(yf21 to yf2'+str(b2.shape[0])+')')\n",
    "\n",
    "for i in range(b2.shape[0]):\n",
    "    fortranCode, pythonCode = encodeFunction(fortranCode, pythonCode, 'yf2' + wv(i) + ' = ' + actFortran(activation, 'y2#', i+1))"
   ]
  },
  {
   "cell_type": "code",
   "execution_count": null,
   "id": "27aaa4d2-6657-4836-be2c-953ee7d8c0dc",
   "metadata": {},
   "outputs": [],
   "source": [
    "# Write the comment for the function\n",
    "fortranCode, pythonCode = encodeFunction(fortranCode, pythonCode, comment + 'Derivatives terms-(xa1 to xa'+str(w3.shape[1])+') and (xb1 to xb'+str(w2.shape[1])+')')\n",
    "\n",
    "# Write the function (yf2*(1-yf2))\n",
    "# xa = w3.T * dactivation(y2))\n",
    "if (useData):\n",
    "    for i in range(w3.shape[1]):\n",
    "        fortranCode, pythonCode = encodeFunction(fortranCode, pythonCode, 'xa' + wv(i) + ' = ' + wv1('w3',i) + ' * ' + dactFortran(activation,'yf2#','y2#',i+1))\n",
    "else:\n",
    "    for i in range(w3.shape[1]):\n",
    "        fortranCode, pythonCode = encodeFunction(fortranCode, pythonCode, 'xa' + wv(i) + ' = ' + valueString(w3[0,i]) + ' * ' + dactFortran(activation,'yf2#','y2#',i+1))\n",
    "\n",
    "# xb = (w2.T).dot(xa * dactivation(y1)\n",
    "if (useData):    \n",
    "    for i in range(w2.shape[1]):\n",
    "        line = 'xb' + wv(i) + ' = ('\n",
    "        for j in range(w2.shape[0]):\n",
    "            if (j!=0): line += '|+'\n",
    "            line += wv2('w2',j,i) + ' * ' + 'xa' + wv(j)\n",
    "        line += ')|* ' + dactFortran(activation,'yf1#','y1#',i+1) #yf1' + wv(i) + '*(1-yf1' + wv(i) + ')'\n",
    "        fortranCode, pythonCode = encodeFunction(fortranCode, pythonCode, line)\n",
    "else:\n",
    "    for i in range(w2.shape[1]):\n",
    "        line = 'xb' + wv(i) + ' = ('\n",
    "        for j in range(w2.shape[0]):\n",
    "            if (j!=0): line += '|+'\n",
    "            line += valueString(w2[j,i]) + ' * ' + 'xa' + wv(j)\n",
    "        line += ')|* ' + dactFortran(activation,'yf1#','y1#',i+1) #yf1' + wv(i) + '*(1-yf1' + wv(i) + ')'\n",
    "        fortranCode, pythonCode = encodeFunction(fortranCode, pythonCode, line)"
   ]
  },
  {
   "cell_type": "code",
   "execution_count": null,
   "id": "15e37e29-ddaf-4e77-8528-57d6fc89b8d5",
   "metadata": {},
   "outputs": [],
   "source": [
    "if (Explicit):\n",
    "    var_sig = 'Yield(k)'\n",
    "    var_dsig1 = 'dyieldDeqps(k,1)'\n",
    "    var_dsig2 = 'dyieldDeqps(k,1)'\n",
    "    var_dsig3 = 'dyieldDtemp(k)'\n",
    "else:\n",
    "    var_sig = 'syield'\n",
    "    var_dsig1 = 'hard(1)'\n",
    "    var_dsig2 = 'hard(2)'\n",
    "    var_dsig3 = 'hard(3)'\n",
    "    \n",
    "# Write the comment for the function\n",
    "fortranCode, pythonCode = encodeFunction(fortranCode, pythonCode, comment + 'Outputs of the subroutine')\n",
    "\n",
    "# Write the function\n",
    "if (useData):    \n",
    "    line = var_sig + ' = xrO * ('\n",
    "    for i in range(w3.shape[1]):\n",
    "        if (i != 0): line += '|+'\n",
    "        line += wv1('w3',i) + ' * yf2' + wv(i)\n",
    "    line += '|+b3)|+xmO' \n",
    "    fortranCode, pythonCode = encodeFunction(fortranCode, pythonCode, line)\n",
    "else:\n",
    "    if (inlineFactor):\n",
    "        line = var_sig + ' = '\n",
    "        for i in range(w3.shape[1]):\n",
    "            if (i != 0): line += '|+'\n",
    "            line += valueString(rangeOutput[0] * w3[0,i]) + ' * yf2' + wv(i)\n",
    "        line += '|+' + valueString(rangeOutput[0] * b3[0][0] + minOutput[0]) \n",
    "        fortranCode, pythonCode = encodeFunction(fortranCode, pythonCode, line)\n",
    "    else:\n",
    "        line = var_sig + ' = ' + valueString(rangeOutput[0]) + '|*('\n",
    "        for i in range(w3.shape[1]):\n",
    "            if (i != 0): line += '|+'\n",
    "            line += valueString(w3[0,i]) + ' * yf2' + wv(i)\n",
    "        line += '|+' + valueString(b3[0][0]) + ')|+' + valueString(minOutput[0]) \n",
    "        fortranCode, pythonCode = encodeFunction(fortranCode, pythonCode, line)\n",
    "    \n",
    "# Write the derivatives of the functions\n",
    "if (useData):   \n",
    "    line = var_dsig1 + ' = xrO * ('\n",
    "    for j in range(w1.shape[0]):\n",
    "        if (j != 0): line += '|+'\n",
    "        line += wv2('w1',j,0) + ' * ' + 'xb' + wv(j)\n",
    "    line += ') / xrI(1)'\n",
    "    fortranCode, pythonCode = encodeFunction(fortranCode, pythonCode, line)\n",
    "    line = var_dsig2 + ' = xrO * ('\n",
    "    for j in range(w1.shape[0]):\n",
    "        if (j != 0): line += '|+'\n",
    "        line += wv2('w1',j,1) + ' * ' + 'xb' + wv(j)\n",
    "    line += ')|/(xrI(2)*'+var_xdeps+')'\n",
    "    fortranCode, pythonCode = encodeFunction(fortranCode, pythonCode, line)\n",
    "    line = var_dsig3 + ' = xrO * ('\n",
    "    for j in range(w1.shape[0]):\n",
    "        if (j != 0): line += '|+'\n",
    "        line += wv2('w1',j,2) + ' * ' + 'xb' + wv(j)\n",
    "    line += ') / xrI(3)'\n",
    "    fortranCode, pythonCode = encodeFunction(fortranCode, pythonCode, line)\n",
    "else:\n",
    "    if (inlineFactor):\n",
    "        line = var_dsig1 + ' = '\n",
    "        for j in range(w1.shape[0]):\n",
    "            if (j != 0): line += '|+'\n",
    "            line += valueString(rangeOutput[0]*w1[j,0]/rangeInput[0,0]) + ' * ' + 'xb' + wv(j)\n",
    "        fortranCode, pythonCode = encodeFunction(fortranCode, pythonCode, line)\n",
    "        line = var_dsig2 + ' = ('\n",
    "        for j in range(w1.shape[0]):\n",
    "            if (j != 0): line += '|+'\n",
    "            line += valueString(rangeOutput[0]*w1[j,1]/rangeInput[1,0]) + ' * ' + 'xb' + wv(j)\n",
    "        line += ') / '+var_xdeps+''\n",
    "        fortranCode, pythonCode = encodeFunction(fortranCode, pythonCode, line)\n",
    "        line = var_dsig3 + ' = '\n",
    "        for j in range(w1.shape[0]):\n",
    "            if (j != 0): line += '|+'\n",
    "            line += valueString(rangeOutput[0]*w1[j,2]/rangeInput[2,0]) + ' * ' + 'xb' + wv(j)\n",
    "        fortranCode, pythonCode = encodeFunction(fortranCode, pythonCode, line)\n",
    "    else:\n",
    "        line = var_dsig1 + ' = ' + valueString(rangeOutput[0]) + '|* ('\n",
    "        for j in range(w1.shape[0]):\n",
    "            if (j != 0): line += '|+'\n",
    "            line += valueString(w1[j,0]) + ' * ' + 'xb' + wv(j)\n",
    "        line += ') / ' + valueString(rangeInput[0,0])\n",
    "        fortranCode, pythonCode = encodeFunction(fortranCode, pythonCode, line)\n",
    "        line = var_dsig2 + ' = ' + valueString(rangeOutput[0]) + '|* ('\n",
    "        for j in range(w1.shape[0]):\n",
    "            if (j != 0): line += '|+'\n",
    "            line += valueString(w1[j,1]) + ' * ' + 'xb' + wv(j)\n",
    "        line += ')|/(' + valueString(rangeInput[1,0]) + '*'+var_xdeps+')'\n",
    "        fortranCode, pythonCode = encodeFunction(fortranCode, pythonCode, line)\n",
    "        line = var_dsig3 + ' = ' + valueString(rangeOutput[0]) + '|* ('\n",
    "        for j in range(w1.shape[0]):\n",
    "            if (j != 0): line += '|+'\n",
    "            line += valueString(w1[j,2]) + ' * ' + 'xb' + wv(j)\n",
    "        line += ') / ' + valueString(rangeInput[2,0])\n",
    "        fortranCode, pythonCode = encodeFunction(fortranCode, pythonCode, line)"
   ]
  },
  {
   "cell_type": "code",
   "execution_count": null,
   "id": "00471174-dec9-41c0-ac67-d9c03737eed9",
   "metadata": {},
   "outputs": [],
   "source": [
    "if (Explicit):\n",
    "    fortranCode += vuhardTail()\n",
    "else:\n",
    "    fortranCode += uhardTail()    "
   ]
  },
  {
   "cell_type": "code",
   "execution_count": null,
   "id": "7ba9e2d1-e1b1-494b-b17e-2ae78f24fe9c",
   "metadata": {},
   "outputs": [],
   "source": [
    "print(fortranCode)"
   ]
  },
  {
   "cell_type": "code",
   "execution_count": null,
   "id": "08312be8-ec01-469c-b681-87fe76e9864a",
   "metadata": {},
   "outputs": [],
   "source": [
    "testVal = 101\n",
    "eqps = annInput[0,testVal]\n",
    "eqpsRate = annInput[1,testVal]\n",
    "tempNew = annInput[2,testVal]\n",
    "print(eqps, eqpsRate, tempNew)"
   ]
  },
  {
   "cell_type": "markdown",
   "id": "bfad2199-64df-4b08-938c-91b0d8c57e80",
   "metadata": {},
   "source": [
    "## Writes the fortran file"
   ]
  },
  {
   "cell_type": "code",
   "execution_count": null,
   "id": "2d89a970-b3f5-4191-89a8-5671342a6c61",
   "metadata": {
    "tags": []
   },
   "outputs": [],
   "source": [
    "text_file = open(DataFile + '-' + modelName + \".f\", \"w\")\n",
    "text_file.write(fortranCode)\n",
    "text_file.close()"
   ]
  },
  {
   "cell_type": "markdown",
   "id": "e66eb4f2-d553-40e5-94d6-14cc8660d8da",
   "metadata": {},
   "source": [
    "## Test the execution"
   ]
  },
  {
   "cell_type": "code",
   "execution_count": null,
   "id": "3b93c753-3f42-4b3d-965e-6d795de4d014",
   "metadata": {},
   "outputs": [],
   "source": [
    "# Execute the corresponding Python code to test\n",
    "if (not useData):\n",
    "    exec(pythonCode)\n",
    "    print('Yield stress',Yield)\n",
    "    Dsigma=np.array([[dyieldDeqps1, dyieldDeqps2, dyieldDtemp]])\n",
    "    print('Yield stress derivatives',Dsigma)   \n",
    "    x = np.copy(annInput[None,:,testVal].T)\n",
    "    deps = np.copy(x[1])\n",
    "    #print(\"x=\", x.T)\n",
    "    x[1,:] = np.log(x[1,:] / deps0)\n",
    "    x = (x - minInput) / rangeInput\n",
    "    #print(\"x=\",x.T)\n",
    "    y1 = w1.dot(x) + b1\n",
    "    #print(\"y1=\",y1.T)\n",
    "    f1 = actF(y1)\n",
    "    #print(\"f1=\",f1.T)\n",
    "    y2 = w2.dot(f1) + b2\n",
    "    #print(\"y2=\",y2.T)\n",
    "    f2 = actF(y2)\n",
    "    #print(\"f2=\",f2.T)\n",
    "    sigma = (w3.dot(f2) + b3) * rangeOutput + minOutput\n",
    "    print('Yield stress',sigma)\n",
    "    dsigma = (w1.T).dot((w2.T).dot(w3.T * dactF(y2)) * dactF(y1)) * rangeOutput / rangeInput\n",
    "    #print(\"dsigma=\",dsigma)\n",
    "    dsigma[1,:] = dsigma[1,:] / deps\n",
    "    print('Yield stress derivatives',dsigma.T)\n",
    "    print('Yield stress error', sigma - Yield)\n",
    "    print('Yield stress derivatives error', dsigma.T - Dsigma)"
   ]
  },
  {
   "cell_type": "markdown",
   "id": "46059aea-eb92-4f31-aab1-4b8ac3577e91",
   "metadata": {},
   "source": [
    "## Writes the latex File"
   ]
  },
  {
   "cell_type": "code",
   "execution_count": null,
   "id": "cde0ee4a-14b2-4082-8bfc-faa21b25aa44",
   "metadata": {},
   "outputs": [],
   "source": [
    "def np2lat(f, n, A, prec=4):\n",
    "    if (A.ndim == 1):\n",
    "        cols = 1\n",
    "    else:\n",
    "        cols = A.shape[1]\n",
    "    tabformat = '%.'+str(prec)+'f'\n",
    "    tabalign = 'r'*cols\n",
    "    f.write('\\\\begin{equation*}\\n')\n",
    "    f.write(n+' = ')\n",
    "    f.write('\\\\left[\\n')\n",
    "    f.write('\\\\begin{array}{%s}\\n' %tabalign)\n",
    "    np.savetxt(f, A, fmt=tabformat, delimiter=' & ', newline='\\\\\\\\ \\n')\n",
    "    f.write('\\\\end{array}\\\\right]\\n')\n",
    "    f.write('\\\\end{equation*}\\n')\n",
    "\n",
    "def writeLatex(filename, prec=4):\n",
    "    f = open(filename, 'w')\n",
    "    np2lat(f, '\\\\w_1',w1, prec)\n",
    "    np2lat(f,'\\\\overrightarrow{b}_1',b1, prec)\n",
    "    np2lat(f, '\\\\w_2^T',w2.T, prec)\n",
    "    np2lat(f,'\\\\overrightarrow{b}_2',b2, prec)\n",
    "    np2lat(f, '\\\\overrightarrow{w}_3',w3.T, prec)\n",
    "    np2lat(f,'b_3',b3, prec)\n",
    "    np2lat(f, 'logBase',np.array([deps0]), prec)\n",
    "    np2lat(f, 'minInput',minInput, prec)\n",
    "    np2lat(f, 'rangeInput',rangeInput, prec)\n",
    "    np2lat(f, 'minOutput',minOutput, prec)\n",
    "    np2lat(f, 'rangeOutput',rangeOutput, prec)    \n",
    "    f.close()"
   ]
  },
  {
   "cell_type": "code",
   "execution_count": null,
   "id": "69399ea8-ae3a-42b6-be01-255af585f607",
   "metadata": {},
   "outputs": [],
   "source": [
    "writeLatex(DataFile + '-' + modelName + \".tex\", prec=3)"
   ]
  }
 ],
 "metadata": {
  "kernelspec": {
   "display_name": "Python 3 (ipykernel)",
   "language": "python",
   "name": "python3"
  },
  "language_info": {
   "codemirror_mode": {
    "name": "ipython",
    "version": 3
   },
   "file_extension": ".py",
   "mimetype": "text/x-python",
   "name": "python",
   "nbconvert_exporter": "python",
   "pygments_lexer": "ipython3",
   "version": "3.11.6"
  }
 },
 "nbformat": 4,
 "nbformat_minor": 5
}
